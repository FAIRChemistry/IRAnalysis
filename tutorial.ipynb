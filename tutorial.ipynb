{
 "cells": [
  {
   "cell_type": "markdown",
   "id": "303e64d4-9544-4e5e-a5f3-275cf9231e42",
   "metadata": {},
   "source": [
    "# Primitive sdRDM tutorial notebook"
   ]
  },
  {
   "cell_type": "markdown",
   "id": "e7233f4e-fb72-41d2-bb36-aca6735b9d06",
   "metadata": {
    "tags": []
   },
   "source": [
    "## Import and instantiate library and root object"
   ]
  },
  {
   "cell_type": "code",
   "execution_count": 1,
   "id": "c2fb3b64-ad56-4923-8e90-5deb3ee76a4c",
   "metadata": {},
   "outputs": [],
   "source": [
    "from datetime import datetime\n",
    "\n",
    "from sdRDM import DataModel"
   ]
  },
  {
   "cell_type": "code",
   "execution_count": 2,
   "id": "8d6bcc1a-5a12-4c6c-ab08-e6f3bd35e3e2",
   "metadata": {},
   "outputs": [
    {
     "data": {
      "text/plain": [
       "\u001b[96mObjects\u001b[0m IRAnalysis, Experiment, Measurement, CorrectedSpectrum, Dataset, Series\n",
       "\u001b[96mEnums\u001b[0m   MeasurementTypes"
      ]
     },
     "execution_count": 2,
     "metadata": {},
     "output_type": "execute_result"
    }
   ],
   "source": [
    "lib = DataModel.from_markdown(\"./specifications\")\n",
    "lib"
   ]
  },
  {
   "cell_type": "code",
   "execution_count": 3,
   "id": "e8b2221e-888c-4946-a98d-862fcc8ad2e3",
   "metadata": {},
   "outputs": [
    {
     "name": "stdout",
     "output_type": "stream",
     "text": [
      "id: iranalysis0\n",
      "datetime_created: 2023-09-07 11:25:13.967079\n",
      "datetime_modified: 2023-09-07 11:25:13.967079\n",
      "__source__:\n",
      "  root: IRAnalysis\n",
      "\n"
     ]
    },
    {
     "name": "stderr",
     "output_type": "stream",
     "text": [
      "/Users/torstengiess/Documents/GitHub/software-driven-rdm/sdRDM/base/datamodel.py:332: UserWarning: No 'URL' and 'Commit' specified. This model might not be re-usable.\n",
      "  warnings.warn(\n"
     ]
    }
   ],
   "source": [
    "_now = str(datetime.now())\n",
    "root = lib.IRAnalysis(\n",
    "    datetime_created=_now,\n",
    "    datetime_modified=_now,\n",
    ")\n",
    "del _now\n",
    "print(root.yaml())"
   ]
  },
  {
   "cell_type": "markdown",
   "id": "4592ffb9-d663-46b2-b968-835d5a888b72",
   "metadata": {},
   "source": [
    "---"
   ]
  },
  {
   "cell_type": "markdown",
   "id": "1c307383-a889-44ec-b4e8-4f1bbc3272a6",
   "metadata": {},
   "source": [
    "## Create and modify objects"
   ]
  },
  {
   "cell_type": "code",
   "execution_count": 4,
   "id": "ebba5ecf-09aa-435b-a720-29fe45c5f4c3",
   "metadata": {},
   "outputs": [],
   "source": [
    "new_experiment = lib.Experiment(name=\"Test\")"
   ]
  },
  {
   "cell_type": "code",
   "execution_count": 5,
   "id": "968f225c-36d8-4259-abb5-13dd616155ee",
   "metadata": {},
   "outputs": [],
   "source": [
    "new_experiment.add_to_measurements(\n",
    "    name=\"This is a measurement\",\n",
    ")\n",
    "root.experiment = new_experiment"
   ]
  },
  {
   "cell_type": "code",
   "execution_count": 6,
   "id": "5bdc22cc-c58e-4ac2-bdb2-738363eb7edc",
   "metadata": {},
   "outputs": [],
   "source": [
    "new_measurement = lib.Measurement(name=\"Another measurement\")\n",
    "root.experiment.measurements.append(new_measurement)"
   ]
  },
  {
   "cell_type": "code",
   "execution_count": 7,
   "id": "77d58d7d-51c5-48e7-88c2-6da9890bb7f8",
   "metadata": {},
   "outputs": [
    {
     "name": "stdout",
     "output_type": "stream",
     "text": [
      "id: iranalysis0\n",
      "datetime_created: 2023-09-07 11:25:13.967079\n",
      "datetime_modified: 2023-09-07 11:25:13.967079\n",
      "experiment:\n",
      "  id: experiment0\n",
      "  name: Test\n",
      "  measurements:\n",
      "    - id: measurement1\n",
      "      name: This is a measurement\n",
      "    - id: measurement2\n",
      "      name: Another measurement\n",
      "__source__:\n",
      "  root: IRAnalysis\n",
      "\n"
     ]
    }
   ],
   "source": [
    "print(root.yaml())"
   ]
  },
  {
   "cell_type": "markdown",
   "id": "23509362-7c76-4491-967e-788f6f04aff2",
   "metadata": {},
   "source": [
    "---"
   ]
  },
  {
   "cell_type": "markdown",
   "id": "039b5e17-0599-4129-a2ca-f5773970bb12",
   "metadata": {},
   "source": [
    "## Access fields in objects"
   ]
  },
  {
   "cell_type": "code",
   "execution_count": 8,
   "id": "a0ab3afc-844c-475a-ba70-2ca58fb30dc7",
   "metadata": {},
   "outputs": [
    {
     "name": "stdout",
     "output_type": "stream",
     "text": [
      "Test\n"
     ]
    }
   ],
   "source": [
    "experiment_name = root.experiment.name\n",
    "print(experiment_name)"
   ]
  },
  {
   "cell_type": "markdown",
   "id": "b133f8a8-d11f-4f22-a93b-7388b2e7164d",
   "metadata": {},
   "source": [
    "---"
   ]
  },
  {
   "cell_type": "markdown",
   "id": "dbc8841c-e98f-4e1f-ac93-826876708283",
   "metadata": {},
   "source": [
    "## Work with API modules directly"
   ]
  },
  {
   "cell_type": "code",
   "execution_count": 9,
   "id": "a1a501c1-d9ce-48e4-876f-f1c834b9d610",
   "metadata": {},
   "outputs": [
    {
     "data": {
      "text/plain": [
       "<module 'datamodel.core.experiment' from '/Users/torstengiess/Documents/GitHub/IRAnalysis/datamodel/core/experiment.py'>"
      ]
     },
     "execution_count": 9,
     "metadata": {},
     "output_type": "execute_result"
    }
   ],
   "source": [
    "from datamodel.core import experiment\n",
    "\n",
    "experiment"
   ]
  },
  {
   "cell_type": "code",
   "execution_count": null,
   "id": "1d1c61b9-b637-46ee-b2d2-620c6fcf8299",
   "metadata": {},
   "outputs": [],
   "source": []
  }
 ],
 "metadata": {
  "kernelspec": {
   "display_name": "Python [conda env:fpir]",
   "language": "python",
   "name": "conda-env-fpir-py"
  },
  "language_info": {
   "codemirror_mode": {
    "name": "ipython",
    "version": 3
   },
   "file_extension": ".py",
   "mimetype": "text/x-python",
   "name": "python",
   "nbconvert_exporter": "python",
   "pygments_lexer": "ipython3",
   "version": "3.10.4"
  }
 },
 "nbformat": 4,
 "nbformat_minor": 5
}
